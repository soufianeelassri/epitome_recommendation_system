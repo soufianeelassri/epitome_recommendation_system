{
 "cells": [
  {
   "cell_type": "code",
   "execution_count": null,
   "id": "41df9053",
   "metadata": {},
   "outputs": [],
   "source": [
    "from sentence_transformers import SentenceTransformer\n",
    "from transformers import CLIPProcessor, CLIPModel\n",
    "from transformers import Wav2Vec2Processor, Wav2Vec2Model\n",
    "\n",
    "# SentenceTransformer model\n",
    "SENTENCE_MODEL_NAME = \"thenlper/gte-small\"\n",
    "SENTENCE_MODEL_PATH = \"./sentence_transformer\"\n",
    "\n",
    "# CLIP model\n",
    "CLIP_MODEL_NAME = \"openai/clip-vit-base-patch16\"\n",
    "CLIP_MODEL_PATH = \"./clip\"\n",
    "\n",
    "# Wav2Vec2 model\n",
    "WAV2VEC_MODEL_NAME = \"facebook/wav2vec2-base\"\n",
    "WAV2VEC_MODEL_PATH = \"./wav2vec2\"\n",
    "\n",
    "def download_sentence_transformer():\n",
    "    model = SentenceTransformer(SENTENCE_MODEL_NAME)\n",
    "    model.save(SENTENCE_MODEL_PATH)\n",
    "    print(f\"SentenceTransformer model downloaded and saved to {SENTENCE_MODEL_PATH}\")\n",
    "\n",
    "def download_clip():\n",
    "    model = CLIPModel.from_pretrained(CLIP_MODEL_NAME)\n",
    "    processor = CLIPProcessor.from_pretrained(CLIP_MODEL_NAME)\n",
    "    model.save_pretrained(CLIP_MODEL_PATH)\n",
    "    processor.save_pretrained(CLIP_MODEL_PATH)\n",
    "    print(f\"CLIP model and processor downloaded and saved to {CLIP_MODEL_PATH}\")\n",
    "\n",
    "def download_wav2vec2():\n",
    "    model = Wav2Vec2Model.from_pretrained(WAV2VEC_MODEL_NAME)\n",
    "    processor = Wav2Vec2Processor.from_pretrained(WAV2VEC_MODEL_NAME)\n",
    "    model.save_pretrained(WAV2VEC_MODEL_PATH)\n",
    "    processor.save_pretrained(WAV2VEC_MODEL_PATH)\n",
    "    print(f\"Wav2Vec2 model and processor downloaded and saved to {WAV2VEC_MODEL_PATH}\")\n",
    "\n",
    "\n",
    "if __name__ == \"__main__\":\n",
    "    download_sentence_transformer()\n",
    "    download_clip()\n",
    "    download_wav2vec2()"
   ]
  }
 ],
 "metadata": {
  "kernelspec": {
   "display_name": "base",
   "language": "python",
   "name": "python3"
  },
  "language_info": {
   "codemirror_mode": {
    "name": "ipython",
    "version": 3
   },
   "file_extension": ".py",
   "mimetype": "text/x-python",
   "name": "python",
   "nbconvert_exporter": "python",
   "pygments_lexer": "ipython3",
   "version": "3.12.7"
  }
 },
 "nbformat": 4,
 "nbformat_minor": 5
}
